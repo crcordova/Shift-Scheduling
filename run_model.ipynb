{
 "cells": [
  {
   "cell_type": "markdown",
   "metadata": {},
   "source": [
    "# Run Scheduling Shift\n",
    "Example (Shift Scheduling at a Retail Store).  \n",
    "Consider a retail store that is open for business from 10:00 to 21:00.  \n",
    "There are five shift patterns.  \n",
    "\n",
    "| Pattern |  Hours to work | Total hours | Cost |\n",
    "|:-------:|:--------------:|:-----------:|:----:|\n",
    "|    1    | 10:00 to 18:00 |      8      |  50  |\n",
    "|    2    | 13:00 to 21:00 |      8      |  60  |\n",
    "|    3    | 12:00 to 18:00 |      6      |  30  |\n",
    "|    4    | 10:00 to 13:00 |      3      |  15  |\n",
    "|    5    | 18:00 to 21:00 |      3      |  13  |  \n",
    "\n",
    "Staffing requirements at the store vary from hour to hour.  \n",
    "  \n",
    "|  Period  | Staffing Requirement |\n",
    "|:--------:|:--------------------:|\n",
    "| 10 to 11 |           3          |\n",
    "| 11 to 12 |           4          |\n",
    "| 12 to 13 |           6          |\n",
    "| 13 to 14 |           4          |\n",
    "| 14 to 15 |           7          |\n",
    "| 15 to 16 |           8          |\n",
    "| 16 to 17 |           7          |\n",
    "| 17 to 18 |           6          |\n",
    "| 18 to 19 |           4          |\n",
    "| 19 to 20 |           7          |\n",
    "| 20 to 21 |           8          |"
   ]
  },
  {
   "cell_type": "code",
   "execution_count": 1,
   "metadata": {},
   "outputs": [],
   "source": [
    "# libraries\n",
    "import pandas as pd\n",
    "from model import Shifts"
   ]
  },
  {
   "cell_type": "markdown",
   "metadata": {},
   "source": [
    "## Sets & Parameters"
   ]
  },
  {
   "cell_type": "code",
   "execution_count": 2,
   "metadata": {},
   "outputs": [],
   "source": [
    "df_shifts = pd.read_csv('shifts.csv')\n",
    "df_forecast = pd.read_csv('forecast.csv')\n",
    "sets = {}\n",
    "parameters = {}\n",
    "\n",
    "sets['Forecast'] = df_forecast['staffing'].to_list\n",
    "sets['Shifts'] = df_shifts['pattern'].to_list()\n",
    "\n",
    "parameters['Cost'] = df_shifts['cost'].to_list()"
   ]
  },
  {
   "cell_type": "markdown",
   "metadata": {},
   "source": [
    "The problem can be formulated as an integer program with the following $c$\n",
    "vector, $A$ matrix and $b$ vector:  \n",
    "$$ c = (50,60,30,15,15) $$ \n",
    "$$ A = \\begin{bmatrix}\n",
    "1 & 0 & 0 & 1 & 0 \\\\\n",
    "1 & 0 & 0 & 1 & 0 \\\\\n",
    "1 & 0 & 1 & 1 & 0 \\\\\n",
    "1 & 1 & 1 & 0 & 0 \\\\\n",
    "1 & 1 & 1 & 0 & 0 \\\\\n",
    "1 & 1 & 1 & 0 & 0 \\\\\n",
    "1 & 1 & 1 & 0 & 0 \\\\\n",
    "1 & 1 & 1 & 0 & 0 \\\\\n",
    "0 & 1 & 0 & 0 & 1 \\\\\n",
    "0 & 1 & 0 & 0 & 1 \\\\\n",
    "0 & 1 & 0 & 0 & 1 \\\\\n",
    "\n",
    "\\end{bmatrix} \\quad \n",
    "b = \\begin{bmatrix}\n",
    "3 \\\\\n",
    "4 \\\\\n",
    "6 \\\\\n",
    "4 \\\\\n",
    "7 \\\\\n",
    "8 \\\\\n",
    "7 \\\\\n",
    "6 \\\\\n",
    "4 \\\\\n",
    "7 \\\\\n",
    "8 \\\\\n",
    "\n",
    "\\end{bmatrix}"
   ]
  },
  {
   "cell_type": "markdown",
   "metadata": {},
   "source": [
    "## Create $A$ Matrix with shift & forecast data "
   ]
  },
  {
   "cell_type": "code",
   "execution_count": 3,
   "metadata": {},
   "outputs": [],
   "source": [
    "def create_shift_pattern(shifts: pd.DataFrame, forecast: pd.DataFrame):\n",
    "    \"\"\"Create Matrix A  shift coverage pattern\"\"\"\n",
    "    A = [[0 for _ in range(len(shifts))] for __ in range(len(forecast))]\n",
    "    for j, shift in shifts.iterrows():\n",
    "        for i, demand in forecast.iterrows():\n",
    "            if shift['period_in'] <= i < shift['period_out']:\n",
    "                A[i][j] = 1\n",
    "    return A\n",
    "\n",
    "hour_period = {valor: clave for clave, valor in df_forecast['period'].to_dict().items()}\n",
    "df_shifts['period_in'] = df_shifts['hour_init'].apply(lambda x: hour_period[x])\n",
    "df_shifts['period_out'] = df_shifts['hour_end'].apply(lambda x: hour_period[x-1])\n",
    "\n",
    "\n",
    "parameters['A'] = create_shift_pattern(df_shifts, df_forecast)"
   ]
  },
  {
   "cell_type": "markdown",
   "metadata": {},
   "source": [
    "## Create Model"
   ]
  },
  {
   "cell_type": "code",
   "execution_count": 6,
   "metadata": {},
   "outputs": [
    {
     "name": "stderr",
     "output_type": "stream",
     "text": [
      "An error occurred while loading the CBC library:\t cannot load library '/Users/cristobalcordova/Documents/Shift-Scheduling/venv/lib/python3.11/site-packages/mip/libraries/cbc-c-darwin-x86-64.dylib': dlopen(/Users/cristobalcordova/Documents/Shift-Scheduling/venv/lib/python3.11/site-packages/mip/libraries/cbc-c-darwin-x86-64.dylib, 0x0002): tried: '/Users/cristobalcordova/Documents/Shift-Scheduling/venv/lib/python3.11/site-packages/mip/libraries/cbc-c-darwin-x86-64.dylib' (mach-o file, but is an incompatible architecture (have 'x86_64', need 'arm64')), '/System/Volumes/Preboot/Cryptexes/OS/Users/cristobalcordova/Documents/Shift-Scheduling/venv/lib/python3.11/site-packages/mip/libraries/cbc-c-darwin-x86-64.dylib' (no such file), '/Users/cristobalcordova/Documents/Shift-Scheduling/venv/lib/python3.11/site-packages/mip/libraries/cbc-c-darwin-x86-64.dylib' (mach-o file, but is an incompatible architecture (have 'x86_64', need 'arm64')).  Additionally, ctypes.util.find_library() did not manage to locate a library called '/Users/cristobalcordova/Documents/Shift-Scheduling/venv/lib/python3.11/site-packages/mip/libraries/cbc-c-darwin-x86-64.dylib'\n",
      "\n"
     ]
    },
    {
     "ename": "NameError",
     "evalue": "name 'cbclib' is not defined",
     "output_type": "error",
     "traceback": [
      "\u001b[0;31m---------------------------------------------------------------------------\u001b[0m",
      "\u001b[0;31mNameError\u001b[0m                                 Traceback (most recent call last)",
      "Cell \u001b[0;32mIn[6], line 1\u001b[0m\n\u001b[0;32m----> 1\u001b[0m model \u001b[38;5;241m=\u001b[39m \u001b[43mShifts\u001b[49m\u001b[43m(\u001b[49m\u001b[43m)\u001b[49m\n\u001b[1;32m      2\u001b[0m model\u001b[38;5;241m.\u001b[39msets(sets)\n\u001b[1;32m      3\u001b[0m model\u001b[38;5;241m.\u001b[39mparameters(parameters)\n",
      "File \u001b[0;32m~/Documents/Shift-Scheduling/model.py:8\u001b[0m, in \u001b[0;36mShifts.__init__\u001b[0;34m(self)\u001b[0m\n\u001b[1;32m      7\u001b[0m \u001b[38;5;28;01mdef\u001b[39;00m \u001b[38;5;21m__init__\u001b[39m(\u001b[38;5;28mself\u001b[39m) \u001b[38;5;241m-\u001b[39m\u001b[38;5;241m>\u001b[39m \u001b[38;5;28;01mNone\u001b[39;00m:\n\u001b[0;32m----> 8\u001b[0m     \u001b[38;5;28mself\u001b[39m\u001b[38;5;241m.\u001b[39mmodel \u001b[38;5;241m=\u001b[39m \u001b[43mModel\u001b[49m\u001b[43m(\u001b[49m\u001b[43m)\u001b[49m\n",
      "File \u001b[0;32m~/Documents/Shift-Scheduling/venv/lib/python3.11/site-packages/mip/model.py:98\u001b[0m, in \u001b[0;36mModel.__init__\u001b[0;34m(self, name, sense, solver_name, solver)\u001b[0m\n\u001b[1;32m     96\u001b[0m     \u001b[38;5;28mself\u001b[39m\u001b[38;5;241m.\u001b[39msolver_name \u001b[38;5;241m=\u001b[39m mip\u001b[38;5;241m.\u001b[39mGUROBI\n\u001b[1;32m     97\u001b[0m \u001b[38;5;28;01melse\u001b[39;00m:\n\u001b[0;32m---> 98\u001b[0m     \u001b[38;5;28;01mimport\u001b[39;00m \u001b[38;5;21;01mmip\u001b[39;00m\u001b[38;5;21;01m.\u001b[39;00m\u001b[38;5;21;01mcbc\u001b[39;00m\n\u001b[1;32m    100\u001b[0m     \u001b[38;5;28mself\u001b[39m\u001b[38;5;241m.\u001b[39msolver \u001b[38;5;241m=\u001b[39m mip\u001b[38;5;241m.\u001b[39mcbc\u001b[38;5;241m.\u001b[39mSolverCbc(\u001b[38;5;28mself\u001b[39m, name, sense)\n\u001b[1;32m    101\u001b[0m     \u001b[38;5;28mself\u001b[39m\u001b[38;5;241m.\u001b[39msolver_name \u001b[38;5;241m=\u001b[39m mip\u001b[38;5;241m.\u001b[39mCBC\n",
      "File \u001b[0;32m~/Documents/Shift-Scheduling/venv/lib/python3.11/site-packages/mip/cbc.py:603\u001b[0m\n\u001b[1;32m    599\u001b[0m INT_PARAM_CLIQUE_MERGING \u001b[38;5;241m=\u001b[39m \u001b[38;5;241m18\u001b[39m\n\u001b[1;32m    600\u001b[0m INT_PARAM_MAX_NODES_NOT_IMPROV_FS \u001b[38;5;241m=\u001b[39m \u001b[38;5;241m19\u001b[39m\n\u001b[0;32m--> 603\u001b[0m Osi_getNumCols \u001b[38;5;241m=\u001b[39m \u001b[43mcbclib\u001b[49m\u001b[38;5;241m.\u001b[39mOsi_getNumCols\n\u001b[1;32m    604\u001b[0m Osi_getColSolution \u001b[38;5;241m=\u001b[39m cbclib\u001b[38;5;241m.\u001b[39mOsi_getColSolution\n\u001b[1;32m    605\u001b[0m Osi_getIntegerTolerance \u001b[38;5;241m=\u001b[39m cbclib\u001b[38;5;241m.\u001b[39mOsi_getIntegerTolerance\n",
      "\u001b[0;31mNameError\u001b[0m: name 'cbclib' is not defined"
     ]
    }
   ],
   "source": [
    "model = Shifts()\n",
    "model.sets(sets)\n",
    "model.parameters(parameters)\n",
    "model.variables()\n",
    "model.constraints()\n",
    "model.objective()\n",
    "result = model.execute()\n"
   ]
  },
  {
   "cell_type": "code",
   "execution_count": 5,
   "metadata": {},
   "outputs": [],
   "source": [
    "import os\n",
    "os.environ['DYLD_LIBRARY_PATH'] = '/Users/cristobalcordova/dist/lib'"
   ]
  },
  {
   "cell_type": "code",
   "execution_count": null,
   "metadata": {},
   "outputs": [],
   "source": []
  }
 ],
 "metadata": {
  "kernelspec": {
   "display_name": "Python 3",
   "language": "python",
   "name": "python3"
  },
  "language_info": {
   "codemirror_mode": {
    "name": "ipython",
    "version": 3
   },
   "file_extension": ".py",
   "mimetype": "text/x-python",
   "name": "python",
   "nbconvert_exporter": "python",
   "pygments_lexer": "ipython3",
   "version": "3.11.5"
  }
 },
 "nbformat": 4,
 "nbformat_minor": 2
}
