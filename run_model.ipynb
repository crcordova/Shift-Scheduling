{
 "cells": [
  {
   "cell_type": "markdown",
   "metadata": {},
   "source": [
    "# Run Scheduling Shift\n",
    "Example (Shift Scheduling at a Retail Store).  \n",
    "Consider a retail store that is open for business from 10:00 to 21:00.  \n",
    "There are five shift patterns.  \n",
    "\n",
    "| Pattern |  Hours to work | Total hours | Cost |\n",
    "|:-------:|:--------------:|:-----------:|:----:|\n",
    "|    1    | 10:00 to 18:00 |      8      |  50  |\n",
    "|    2    | 13:00 to 21:00 |      8      |  60  |\n",
    "|    3    | 12:00 to 18:00 |      6      |  30  |\n",
    "|    4    | 10:00 to 13:00 |      3      |  15  |\n",
    "|    5    | 18:00 to 21:00 |      3      |  13  |  \n",
    "\n",
    "Staffing requirements at the store vary from hour to hour.  \n",
    "  \n",
    "|  Period  | Staffing Requirement |\n",
    "|:--------:|:--------------------:|\n",
    "| 10 to 11 |           3          |\n",
    "| 11 to 12 |           4          |\n",
    "| 12 to 13 |           6          |\n",
    "| 13 to 14 |           4          |\n",
    "| 14 to 15 |           7          |\n",
    "| 15 to 16 |           8          |\n",
    "| 16 to 17 |           7          |\n",
    "| 17 to 18 |           6          |\n",
    "| 18 to 19 |           4          |\n",
    "| 19 to 20 |           7          |\n",
    "| 20 to 21 |           8          |"
   ]
  },
  {
   "cell_type": "code",
   "execution_count": 1,
   "metadata": {},
   "outputs": [],
   "source": [
    "# libraries\n",
    "import pandas as pd\n",
    "from model import Shifts"
   ]
  },
  {
   "cell_type": "markdown",
   "metadata": {},
   "source": [
    "## Sets & Parameters"
   ]
  },
  {
   "cell_type": "code",
   "execution_count": 2,
   "metadata": {},
   "outputs": [],
   "source": [
    "df_shifts = pd.read_csv('shifts.csv')\n",
    "df_forecast = pd.read_csv('forecast.csv')\n",
    "sets = {}\n",
    "parameters = {}\n",
    "\n",
    "sets['Forecast'] = df_forecast['staffing'].to_list()\n",
    "sets['Shifts'] = df_shifts['pattern'].to_list()\n",
    "\n",
    "parameters['Cost'] = df_shifts['cost'].to_list()"
   ]
  },
  {
   "cell_type": "markdown",
   "metadata": {},
   "source": [
    "The problem can be formulated as an integer program with the following $c$\n",
    "vector, $A$ matrix and $b$ vector:  \n",
    "$$ c = (50,60,30,15,15) $$ \n",
    "$$ A = \\begin{bmatrix}\n",
    "1 & 0 & 0 & 1 & 0 \\\\\n",
    "1 & 0 & 0 & 1 & 0 \\\\\n",
    "1 & 0 & 1 & 1 & 0 \\\\\n",
    "1 & 1 & 1 & 0 & 0 \\\\\n",
    "1 & 1 & 1 & 0 & 0 \\\\\n",
    "1 & 1 & 1 & 0 & 0 \\\\\n",
    "1 & 1 & 1 & 0 & 0 \\\\\n",
    "1 & 1 & 1 & 0 & 0 \\\\\n",
    "0 & 1 & 0 & 0 & 1 \\\\\n",
    "0 & 1 & 0 & 0 & 1 \\\\\n",
    "0 & 1 & 0 & 0 & 1 \\\\\n",
    "\n",
    "\\end{bmatrix} \\quad \n",
    "b = \\begin{bmatrix}\n",
    "3 \\\\\n",
    "4 \\\\\n",
    "6 \\\\\n",
    "4 \\\\\n",
    "7 \\\\\n",
    "8 \\\\\n",
    "7 \\\\\n",
    "6 \\\\\n",
    "4 \\\\\n",
    "7 \\\\\n",
    "8 \\\\\n",
    "\n",
    "\\end{bmatrix}"
   ]
  },
  {
   "cell_type": "markdown",
   "metadata": {},
   "source": [
    "## Create $A$ Matrix with shift & forecast data "
   ]
  },
  {
   "cell_type": "code",
   "execution_count": 3,
   "metadata": {},
   "outputs": [],
   "source": [
    "def create_shift_pattern(shifts: pd.DataFrame, forecast: pd.DataFrame):\n",
    "    \"\"\"Create Matrix A  shift coverage pattern\"\"\"\n",
    "    A = [[0 for _ in range(len(shifts))] for __ in range(len(forecast))]\n",
    "    for j, shift in shifts.iterrows():\n",
    "        for i, demand in forecast.iterrows():\n",
    "            if shift['period_in'] <= i < shift['period_out']:\n",
    "                A[i][j] = 1\n",
    "    return A\n",
    "\n",
    "hour_period = {valor: clave for clave, valor in df_forecast['period'].to_dict().items()}\n",
    "df_shifts['period_in'] = df_shifts['hour_init'].apply(lambda x: hour_period[x])\n",
    "df_shifts['period_out'] = df_shifts['hour_end'].apply(lambda x: hour_period[x-1])\n",
    "\n",
    "\n",
    "parameters['A'] = create_shift_pattern(df_shifts, df_forecast)"
   ]
  },
  {
   "cell_type": "markdown",
   "metadata": {},
   "source": [
    "## Create Model"
   ]
  },
  {
   "cell_type": "code",
   "execution_count": 4,
   "metadata": {},
   "outputs": [
    {
     "name": "stdout",
     "output_type": "stream",
     "text": [
      "Status: OptimizationStatus.OPTIMAL\n"
     ]
    }
   ],
   "source": [
    "model = Shifts()\n",
    "model.sets(sets)\n",
    "model.parameters(parameters)\n",
    "model.variables()\n",
    "model.constrains()\n",
    "model.objective()\n",
    "result = model.execute()\n"
   ]
  },
  {
   "cell_type": "code",
   "execution_count": 6,
   "metadata": {},
   "outputs": [
    {
     "data": {
      "text/plain": [
       "{'W': 7, 'Shifts': {0: 0, 1: 6, 2: 1, 3: 0, 4: 0}}"
      ]
     },
     "execution_count": 6,
     "metadata": {},
     "output_type": "execute_result"
    }
   ],
   "source": [
    "result"
   ]
  },
  {
   "cell_type": "markdown",
   "metadata": {},
   "source": [
    "## Results\n",
    "Using the results obtained with the optimization problem, we can calculated the staffing requirement per shift and the total cost of staffing"
   ]
  },
  {
   "cell_type": "code",
   "execution_count": 21,
   "metadata": {},
   "outputs": [],
   "source": [
    "df_result = pd.DataFrame(list(result['Shifts'].items()), columns=['pattern',\"staff_requirement\"])\n",
    "df_result = pd.merge(df_shifts, df_result, on='pattern', how='left')\n",
    "df_result['cost_staffing'] = df_result['staff_requirement'] * df_result['cost']"
   ]
  },
  {
   "cell_type": "code",
   "execution_count": 22,
   "metadata": {},
   "outputs": [
    {
     "data": {
      "text/html": [
       "<div>\n",
       "<style scoped>\n",
       "    .dataframe tbody tr th:only-of-type {\n",
       "        vertical-align: middle;\n",
       "    }\n",
       "\n",
       "    .dataframe tbody tr th {\n",
       "        vertical-align: top;\n",
       "    }\n",
       "\n",
       "    .dataframe thead th {\n",
       "        text-align: right;\n",
       "    }\n",
       "</style>\n",
       "<table border=\"1\" class=\"dataframe\">\n",
       "  <thead>\n",
       "    <tr style=\"text-align: right;\">\n",
       "      <th></th>\n",
       "      <th>pattern</th>\n",
       "      <th>hour_init</th>\n",
       "      <th>hour_end</th>\n",
       "      <th>duration</th>\n",
       "      <th>cost</th>\n",
       "      <th>period_in</th>\n",
       "      <th>period_out</th>\n",
       "      <th>staff_requirement</th>\n",
       "      <th>cost_staffing</th>\n",
       "    </tr>\n",
       "  </thead>\n",
       "  <tbody>\n",
       "    <tr>\n",
       "      <th>0</th>\n",
       "      <td>0</td>\n",
       "      <td>10</td>\n",
       "      <td>18</td>\n",
       "      <td>8</td>\n",
       "      <td>50</td>\n",
       "      <td>0</td>\n",
       "      <td>7</td>\n",
       "      <td>0</td>\n",
       "      <td>0</td>\n",
       "    </tr>\n",
       "    <tr>\n",
       "      <th>1</th>\n",
       "      <td>1</td>\n",
       "      <td>13</td>\n",
       "      <td>21</td>\n",
       "      <td>8</td>\n",
       "      <td>60</td>\n",
       "      <td>3</td>\n",
       "      <td>10</td>\n",
       "      <td>6</td>\n",
       "      <td>360</td>\n",
       "    </tr>\n",
       "    <tr>\n",
       "      <th>2</th>\n",
       "      <td>2</td>\n",
       "      <td>12</td>\n",
       "      <td>18</td>\n",
       "      <td>6</td>\n",
       "      <td>30</td>\n",
       "      <td>2</td>\n",
       "      <td>7</td>\n",
       "      <td>1</td>\n",
       "      <td>30</td>\n",
       "    </tr>\n",
       "    <tr>\n",
       "      <th>3</th>\n",
       "      <td>3</td>\n",
       "      <td>10</td>\n",
       "      <td>13</td>\n",
       "      <td>3</td>\n",
       "      <td>15</td>\n",
       "      <td>0</td>\n",
       "      <td>2</td>\n",
       "      <td>0</td>\n",
       "      <td>0</td>\n",
       "    </tr>\n",
       "    <tr>\n",
       "      <th>4</th>\n",
       "      <td>4</td>\n",
       "      <td>18</td>\n",
       "      <td>21</td>\n",
       "      <td>3</td>\n",
       "      <td>13</td>\n",
       "      <td>8</td>\n",
       "      <td>10</td>\n",
       "      <td>0</td>\n",
       "      <td>0</td>\n",
       "    </tr>\n",
       "  </tbody>\n",
       "</table>\n",
       "</div>"
      ],
      "text/plain": [
       "   pattern  hour_init  hour_end  duration  cost  period_in  period_out  \\\n",
       "0        0         10        18         8    50          0           7   \n",
       "1        1         13        21         8    60          3          10   \n",
       "2        2         12        18         6    30          2           7   \n",
       "3        3         10        13         3    15          0           2   \n",
       "4        4         18        21         3    13          8          10   \n",
       "\n",
       "   staff_requirement  cost_staffing  \n",
       "0                  0              0  \n",
       "1                  6            360  \n",
       "2                  1             30  \n",
       "3                  0              0  \n",
       "4                  0              0  "
      ]
     },
     "execution_count": 22,
     "metadata": {},
     "output_type": "execute_result"
    }
   ],
   "source": [
    "df_result"
   ]
  },
  {
   "cell_type": "code",
   "execution_count": 23,
   "metadata": {},
   "outputs": [
    {
     "name": "stdout",
     "output_type": "stream",
     "text": [
      "Total cost Staffing: 390\n",
      "Total Workforce: 7\n"
     ]
    }
   ],
   "source": [
    "staff_cost = df_result['cost_staffing'].sum()\n",
    "total_workforce = df_result['staff_requirement'].sum()\n",
    "print(f\"Total cost Staffing: {staff_cost}\")\n",
    "print(f\"Total Workforce: {total_workforce}\")"
   ]
  },
  {
   "cell_type": "markdown",
   "metadata": {},
   "source": [
    "With this algorithm can minimize the cost of the personal without affecting the staffing requiremet"
   ]
  }
 ],
 "metadata": {
  "kernelspec": {
   "display_name": "Python 3",
   "language": "python",
   "name": "python3"
  },
  "language_info": {
   "codemirror_mode": {
    "name": "ipython",
    "version": 3
   },
   "file_extension": ".py",
   "mimetype": "text/x-python",
   "name": "python",
   "nbconvert_exporter": "python",
   "pygments_lexer": "ipython3",
   "version": "3.10.8"
  }
 },
 "nbformat": 4,
 "nbformat_minor": 2
}
